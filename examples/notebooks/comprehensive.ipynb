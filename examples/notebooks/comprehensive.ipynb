{
 "cells": [
  {
   "cell_type": "markdown",
   "metadata": {},
   "source": [
    "# Introduction to the Prediktor Edge Client python library\n",
    "\n",
    "* TOC\n",
    "\n",
    "## Background\n",
    "\n",
    "The PyPrediktorEdgeClient library allows the user to connect to an Apis instances. It is possible to create and manipulate Apis modules and items. The following core operations are available\n",
    "\n",
    "* Apis Hive Service instances\n",
    "  * Creating an Apis Hive service\n",
    "  * Starting and stopping an Apis Hive service\n",
    "  * Deleting an Apis Hive service\n",
    "* Apis Hive operations\n",
    "  * Creating modules\n",
    "  * Listing Apis modules\n",
    "  * Reading data as VQT records\n",
    "* Apis Hive Module operations\n",
    "  * Accessing module properties\n",
    "  * Setting/getting module properties directly\n",
    "  * Listing and retrieving module items\n",
    "* Apis Hive Item operations\n",
    "  * Accessing item attributes\n",
    "  * Setting/getting module attributes directly\n",
    "\n",
    "\n",
    "## Installation\n",
    "\n",
    "```\n",
    "pip install git+https://github.com/PrediktorAS/PyPrediktorEdgeClient.git\n",
    "```\n",
    "\n",
    "See the readme.md as well as [The PythonNet Github page](https://github.com/pythonnet/pythonnet/wiki/Troubleshooting-on-Windows,-Linux,-and-OSX) for further installation instructions.\n",
    "\n",
    "## Library structure\n",
    "\n",
    "The library is structured as a package with several subpackages:\n",
    "\n",
    "    pyprediktoredgeclient\n",
    "        hive\n",
    "        hiveservices\n",
    "        util\n",
    "        honeystore^*\n",
    "        timeseries^*\n",
    "        chronicle^*\n",
    "\n",
    "*) Not completed yet\n",
    "\n",
    "# Hive services\n",
    "\n",
    "Hive services is concerned with the representation of Hive instances on the computer, not the implementation of logic on that Hive instance.\n",
    "\n",
    "## Importing the module\n",
    "\n",
    "The hive instances are accessed through the `hiveservices` module"
   ]
  },
  {
   "cell_type": "code",
   "execution_count": 24,
   "metadata": {
    "test-case": "first"
   },
   "outputs": [],
   "source": [
    "\n",
    "from pyprediktoredgeclient import hiveservices"
   ]
  },
  {
   "cell_type": "markdown",
   "metadata": {},
   "source": [
    "##  List all hive instances UUIDs on the machine"
   ]
  },
  {
   "cell_type": "code",
   "execution_count": 25,
   "metadata": {
    "test-case": "second"
   },
   "outputs": [
    {
     "data": {
      "text/plain": [
       "[UUID('51f92300-ca68-11d2-85c3-0000e8404a66'),\n",
       " UUID('04d4eb61-ccd3-43cc-a4ca-d2b5c4c56b05'),\n",
       " UUID('0d292cc4-a693-4f81-b47b-0d60ab6beb8b'),\n",
       " UUID('8322407c-ea3d-4886-9d99-cc8ccd35da6f'),\n",
       " UUID('8840f50b-924d-4429-bc52-d67840169db8'),\n",
       " UUID('f84849c5-e05e-4666-a290-5792b0448a50')]"
      ]
     },
     "execution_count": 25,
     "metadata": {},
     "output_type": "execute_result"
    }
   ],
   "source": [
    "uuids = hiveservices.instance_identifiers()\n",
    "uuids"
   ]
  },
  {
   "cell_type": "markdown",
   "metadata": {},
   "source": [
    "## List all instances \n",
    "\n",
    "The `hiveservices.list_instances()`function returns a list of `HiveInstance` objects. The main properties of a `HiveInstance` object is:\n",
    "\n",
    "* `name`: The name of the instance\n",
    "* `prog_id`: The prog id (Com class name) of the Hive instance\n",
    "* `running`: A bool property indicating wheter the instance is running or not\n",
    "* `CLSID`: The UUID class id."
   ]
  },
  {
   "cell_type": "code",
   "execution_count": 26,
   "metadata": {},
   "outputs": [
    {
     "name": "stdout",
     "output_type": "stream",
     "text": [
      "ApisHive\n",
      "\tFalse\t51f92300-ca68-11d2-85c3-0000e8404a66\tPrediktor.ApisLoader.1\n",
      "\n",
      "ScadaInput\n",
      "\tFalse\t04d4eb61-ccd3-43cc-a4ca-d2b5c4c56b05\tPrediktor.ApisLoader.ScadaInput\n",
      "\n",
      "pytest\n",
      "\tTrue\t0d292cc4-a693-4f81-b47b-0d60ab6beb8b\tPrediktor.ApisLoader.pytest\n",
      "\n",
      "Kontornett\n",
      "\tFalse\t8322407c-ea3d-4886-9d99-cc8ccd35da6f\tPrediktor.ApisLoader.Kontornett\n",
      "\n",
      "AggregatedTags\n",
      "\tFalse\t8840f50b-924d-4429-bc52-d67840169db8\tPrediktor.ApisLoader.AggregatedTags\n",
      "\n",
      "Simulator\n",
      "\tFalse\tf84849c5-e05e-4666-a290-5792b0448a50\tPrediktor.ApisLoader.Simulator\n",
      "\n"
     ]
    }
   ],
   "source": [
    "instance_list = hiveservices.list_instances()\n",
    "\n",
    "for inst in instance_list:\n",
    "    print(f\"{inst.name}\\n\\t{inst.running}\\t{inst.CLSID}\\t{inst.prog_id}\\n\")"
   ]
  },
  {
   "cell_type": "markdown",
   "metadata": {},
   "source": [
    "check that the list of UUID's and instance_list are same length and that all UUIDs are available"
   ]
  },
  {
   "cell_type": "code",
   "execution_count": 27,
   "metadata": {},
   "outputs": [],
   "source": [
    "assert len(uuids) == len(instance_list)\n",
    "\n",
    "#check that all instances in instance list has a corresponding UUID\n",
    "for instance in instance_list:\n",
    "    assert instance.CLSID in uuids"
   ]
  },
  {
   "cell_type": "markdown",
   "metadata": {},
   "source": [
    "## Creating a new instance\n",
    "\n",
    "We'll try to fetch the instance 'pytest' and create it if it doesn't exist"
   ]
  },
  {
   "cell_type": "code",
   "execution_count": 28,
   "metadata": {},
   "outputs": [],
   "source": [
    "\n",
    "try:\n",
    "    pytest = hiveservices.get_instance('pytest')\n",
    "except hiveservices.Error:\n",
    "    pytest = hiveservices.add_instance('pytest')\n",
    "\n",
    "# check that 'pytest' is among the instances\n",
    "\n",
    "assert 'pytest' in [instance.name for instance in hiveservices.list_instances()]"
   ]
  },
  {
   "cell_type": "markdown",
   "metadata": {},
   "source": [
    "## Starting and stopping services\n",
    "\n",
    "The running state of Hive instances can be interrogated through the `.running` attribute of an `ApisInstance` object"
   ]
  },
  {
   "cell_type": "code",
   "execution_count": 29,
   "metadata": {},
   "outputs": [
    {
     "name": "stdout",
     "output_type": "stream",
     "text": [
      "'pytest' instance is running\n"
     ]
    }
   ],
   "source": [
    "if pytest.running:\n",
    "    print(\"'pytest' instance is running\")\n",
    "else:\n",
    "    print(\"'pytest' instance was stopped, starting\")\n",
    "\n",
    "pytest.running = True    "
   ]
  }
 ],
 "metadata": {
  "interpreter": {
   "hash": "c303f5ad0e2b064fa247b1b24a1fed71625b8f0808ce8ae7c7ba3fbaec6282fd"
  },
  "kernelspec": {
   "display_name": "Python 3.8.12 64-bit ('pyEdgeClient': conda)",
   "language": "python",
   "name": "python3"
  },
  "language_info": {
   "codemirror_mode": {
    "name": "ipython",
    "version": 3
   },
   "file_extension": ".py",
   "mimetype": "text/x-python",
   "name": "python",
   "nbconvert_exporter": "python",
   "pygments_lexer": "ipython3",
   "version": "3.8.12"
  },
  "orig_nbformat": 4
 },
 "nbformat": 4,
 "nbformat_minor": 2
}
