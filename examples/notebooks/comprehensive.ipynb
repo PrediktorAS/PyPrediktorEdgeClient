{
 "cells": [
  {
   "cell_type": "markdown",
   "metadata": {},
   "source": [
    "# Introduction to the Prediktor Edge Client python library\n",
    "\n",
    "This library allows programatic control to the Prediktor Apis Edge components through the Python programming language. It is possible to manipulate Hive istances, Modules, Items, Properties, Attributes, Honestore databases. The supported actions are add, access, remove/delete (where applicable) and write.\n",
    "\n",
    "\n",
    "\n",
    "## Background\n",
    "\n",
    "The PyPrediktorEdgeClient library allows the user to connect to an Apis instances. It is possible to create and manipulate Apis modules and items. The following core operations are available\n",
    "\n",
    "* Apis Hive Service instances\n",
    "  * Creating an Apis Hive service\n",
    "  * Starting and stopping an Apis Hive service\n",
    "  * Deleting an Apis Hive service\n",
    "* Apis Hive operations\n",
    "  * Creating modules\n",
    "  * Listing Apis modules\n",
    "  * Reading data as VQT records\n",
    "* Apis Hive Module operations\n",
    "  * Accessing module properties\n",
    "  * Setting/getting module properties directly\n",
    "  * Listing and retrieving module items\n",
    "* Apis Hive Item operations\n",
    "  * Accessing item attributes\n",
    "  * Setting/getting module attributes directly\n",
    "\n",
    "\n",
    "## Notes and warnings\n",
    "\n",
    "---\n",
    "**NOTE**\n",
    "\n",
    "This library gives almost unrestricted access to the Apis Edge. Please note that operations on Apis Edge are final, and it is possible to delete or damage vital parts of a working system. Please use with care!\n",
    "\n",
    "---\n",
    "\n",
    "---\n",
    "**NOTE**\n",
    "\n",
    "This library is open source and not supported by Prediktor. Prediktor assumes no liability or responsibility regarding the functionality or correctness of the code.\n",
    "\n",
    "---\n",
    "\n",
    "\n",
    "## Installation\n",
    "\n",
    "```\n",
    "pip install git+https://github.com/PrediktorAS/PyPrediktorEdgeClient.git\n",
    "```\n",
    "\n",
    "See the readme.md as well as [The PythonNet Github page](https://github.com/pythonnet/pythonnet/wiki/Troubleshooting-on-Windows,-Linux,-and-OSX) for further installation instructions.\n",
    "\n",
    "## Library structure\n",
    "\n",
    "The library is structured as a package with several subpackages:\n",
    "\n",
    "    pyprediktoredgeclient\n",
    "        hive\n",
    "        hiveservices\n",
    "        util\n",
    "        honeystore^*\n",
    "        timeseries^*\n",
    "        chronicle^*\n",
    "\n",
    "*) Not completed yet\n",
    "\n",
    "## API conventions\n",
    "\n",
    "There are several conventions used in the design of the *Python interface for Apis Edge*, `pyprediktoredgeclient`. The API follows the conventions set out in\n",
    "[PEP8](https://www.python.org/dev/peps/pep-0008/), but with relaxation regarding line length.\n",
    "\n",
    "* Variable, function and method names uses `snake_case` -- lower case names joined with underscore\n",
    "* Classes are CamelCase\n",
    "* Method names are structured as *verb_subject*, i.e. `get_item('')`\n",
    "* Attributes (as python language construct, not to be confused with item attributes) are constructed from subjects or adjectives (i.e. `hive.module_types`).\n",
    "\n",
    "# Hive services\n",
    "\n",
    "Hive services is concerned with the representation of Hive instances on the computer, not the implementation of logic on that Hive instance.\n",
    "\n",
    "## Importing the modules\n",
    "\n",
    "The hive instances are accessed through the `hiveservices` module. The different modules such as `hive`, `hiveservices` etc relies on the `util`\n",
    "package. This package handles import of the various Apis Assemblies as a part of the module loading. The asseblies are loaded according to the\n",
    "following sequence:\n",
    "\n",
    "1. If the environment variable 'APIS_INSTALL_LOCATION' is defined - use that as the import location\n",
    "2. If running on a windows platform check for possible, common installation locations of Apis in the registry and use those to \n",
    "   load the assemblies\n",
    "3. Install the assemblies from the install kit\n",
    "\n",
    "The location where the asseblies are loaded from are located in the variable `util.importlocation`\n"
   ]
  },
  {
   "cell_type": "code",
   "execution_count": 1,
   "metadata": {
    "test-case": "first"
   },
   "outputs": [
    {
     "data": {
      "text/plain": [
       "('C:\\\\Program Files\\\\APIS\\\\Bin64',\n",
       " ['C:\\\\Program Files\\\\APIS\\\\Bin64\\\\HiveNetApi.dll',\n",
       "  'C:\\\\Program Files\\\\APIS\\\\Bin64\\\\ApisNetUtilities.dll',\n",
       "  'C:\\\\Program Files\\\\APIS\\\\Bin64\\\\Microsoft.Win32.Registry.dll',\n",
       "  'C:\\\\Program Files\\\\APIS\\\\Bin64\\\\HoneystoreNetApi.dll',\n",
       "  'C:\\\\Program Files\\\\APIS\\\\Bin64\\\\Prediktor.Log.dll',\n",
       "  'C:\\\\Program Files\\\\APIS\\\\Bin64\\\\SentinelRMSCore.dll'])"
      ]
     },
     "execution_count": 1,
     "metadata": {},
     "output_type": "execute_result"
    }
   ],
   "source": [
    "from pyprediktoredgeclient import hiveservices, util\n",
    "util.importlocation, util.imported_assemblies"
   ]
  },
  {
   "cell_type": "markdown",
   "metadata": {},
   "source": [
    "##  List all hive instances UUIDs on the machine"
   ]
  },
  {
   "cell_type": "code",
   "execution_count": 2,
   "metadata": {
    "test-case": "second"
   },
   "outputs": [
    {
     "data": {
      "text/plain": [
       "[UUID('51f92300-ca68-11d2-85c3-0000e8404a66'),\n",
       " UUID('04d4eb61-ccd3-43cc-a4ca-d2b5c4c56b05'),\n",
       " UUID('1839a793-bc84-4825-a25b-2b6dd4f5b333'),\n",
       " UUID('4941b1b0-e948-4788-8fcb-1e7dc9ce6a67'),\n",
       " UUID('8322407c-ea3d-4886-9d99-cc8ccd35da6f'),\n",
       " UUID('8840f50b-924d-4429-bc52-d67840169db8'),\n",
       " UUID('dedc70ab-ad1b-4de2-9e56-4e53f280b342'),\n",
       " UUID('f84849c5-e05e-4666-a290-5792b0448a50'),\n",
       " UUID('fb08a90b-a355-47c7-b3b8-a3328e8dce4a')]"
      ]
     },
     "execution_count": 2,
     "metadata": {},
     "output_type": "execute_result"
    }
   ],
   "source": [
    "uuids = hiveservices.instance_identifiers()\n",
    "uuids"
   ]
  },
  {
   "cell_type": "markdown",
   "metadata": {},
   "source": [
    "## List all instances \n",
    "\n",
    "The `hiveservices.list_instances()`function returns a list of `HiveInstance` objects. The main properties of a `HiveInstance` object is:\n",
    "\n",
    "* `name`: The name of the instance\n",
    "* `prog_id`: The prog id (Com class name) of the Hive instance\n",
    "* `running`: A bool property indicating wheter the instance is running or not\n",
    "* `CLSID`: The UUID class id."
   ]
  },
  {
   "cell_type": "code",
   "execution_count": 3,
   "metadata": {},
   "outputs": [
    {
     "name": "stdout",
     "output_type": "stream",
     "text": [
      "ApisHive\n",
      "\tFalse\t51f92300-ca68-11d2-85c3-0000e8404a66\tPrediktor.ApisLoader.1\n",
      "\n",
      "ScadaInput\n",
      "\tFalse\t04d4eb61-ccd3-43cc-a4ca-d2b5c4c56b05\tPrediktor.ApisLoader.ScadaInput\n",
      "\n",
      "MaerskSource\n",
      "\tFalse\t1839a793-bc84-4825-a25b-2b6dd4f5b333\tPrediktor.ApisLoader.MaerskSource\n",
      "\n",
      "MaerskLogger\n",
      "\tFalse\t4941b1b0-e948-4788-8fcb-1e7dc9ce6a67\tPrediktor.ApisLoader.MaerskLogger\n",
      "\n",
      "Kontornett\n",
      "\tFalse\t8322407c-ea3d-4886-9d99-cc8ccd35da6f\tPrediktor.ApisLoader.Kontornett\n",
      "\n",
      "AggregatedTags\n",
      "\tFalse\t8840f50b-924d-4429-bc52-d67840169db8\tPrediktor.ApisLoader.AggregatedTags\n",
      "\n",
      "pytestinstance\n",
      "\tTrue\tdedc70ab-ad1b-4de2-9e56-4e53f280b342\tPrediktor.ApisLoader.pytestinstance\n",
      "\n",
      "Simulator\n",
      "\tFalse\tf84849c5-e05e-4666-a290-5792b0448a50\tPrediktor.ApisLoader.Simulator\n",
      "\n",
      "BachalauSim\n",
      "\tFalse\tfb08a90b-a355-47c7-b3b8-a3328e8dce4a\tPrediktor.ApisLoader.BachalauSim\n",
      "\n"
     ]
    }
   ],
   "source": [
    "instance_list = hiveservices.list_instances()\n",
    "\n",
    "for inst in instance_list:\n",
    "    print(f\"{inst.name}\\n\\t{inst.running}\\t{inst.CLSID}\\t{inst.prog_id}\\n\")"
   ]
  },
  {
   "cell_type": "markdown",
   "metadata": {},
   "source": [
    "check that the list of UUID's and instance_list are same length and that all UUIDs are available"
   ]
  },
  {
   "cell_type": "code",
   "execution_count": 4,
   "metadata": {},
   "outputs": [],
   "source": [
    "assert len(uuids) == len(instance_list)\n",
    "\n",
    "#check that all instances in instance list has a corresponding UUID\n",
    "for instance in instance_list:\n",
    "    assert instance.CLSID in uuids"
   ]
  },
  {
   "cell_type": "markdown",
   "metadata": {},
   "source": [
    "## Creating a new instance\n",
    "\n",
    "We'll try to fetch the instance 'pytest' and create it if it doesn't exist"
   ]
  },
  {
   "cell_type": "code",
   "execution_count": 5,
   "metadata": {},
   "outputs": [],
   "source": [
    "\n",
    "try:\n",
    "    pytestinstance = hiveservices.get_instance('pytestinstance')\n",
    "except hiveservices.Error:\n",
    "    pytestinstance = hiveservices.add_instance('pytestinstance')\n",
    "\n",
    "# check that 'pytest' is among the instances\n",
    "\n",
    "assert 'pytestinstance' in [instance.name for instance in hiveservices.list_instances()]"
   ]
  },
  {
   "cell_type": "markdown",
   "metadata": {},
   "source": [
    "## Starting and stopping services\n",
    "\n",
    "The running state of Hive instances can be interrogated through the `.running` attribute of an `ApisInstance` object"
   ]
  },
  {
   "cell_type": "code",
   "execution_count": 6,
   "metadata": {},
   "outputs": [
    {
     "name": "stdout",
     "output_type": "stream",
     "text": [
      "'pytestinstance' instance is running\n"
     ]
    }
   ],
   "source": [
    "if pytestinstance.running:\n",
    "    print(\"'pytestinstance' instance is running\")\n",
    "else:\n",
    "    print(\"'pytestinstance' instance was stopped, starting\")\n",
    "\n",
    "pytestinstance.running = True    "
   ]
  },
  {
   "cell_type": "markdown",
   "metadata": {},
   "source": [
    "# Hive, Modules and Items\n",
    "\n",
    "The `hive` subpackage gives the user access to the Apis Edge hive and related parts such as modules and items. The `hive` functionality must not be confused with `hiveservices` mentioned above. The classes and functions in `hive` is concerned with the configuration of the system whereas `hiveservice` deals with the management of the hive on the computer, such as stopping and starting the system.\n",
    "\n",
    "Some clarifications and definitions might be in order. The main classes defined in the `hive`package are:\n",
    "\n",
    "* `Hive` This class contains the configuration of one hive. A hive is an insulated service that manages input, output, logging and processing. A `Hive` contains any number of `Module`s.\n",
    "* `Module` This class contains all the `Item`s associated with one functionality. A functionality could be the OPC connection to a particular server. The parameters that control the `Module` behaviour are called `Property`. \n",
    "* `Property` The parameters for one `Module` such as ExchangeRate.\n",
    "* `Item` contains the real-time information in the system. The various parameters and values associated with one `Item` are known as `Attribute`s\n",
    "\n",
    "## Importing the package and connecting to a Hive\n",
    "\n",
    "In this example we use the `hiveinstance` object from the previous section to connect to the `hive` however we could also use the prog-id of the hive as a connection parameter, "
   ]
  },
  {
   "cell_type": "code",
   "execution_count": 7,
   "metadata": {},
   "outputs": [],
   "source": [
    "from pyprediktoredgeclient import hive\n",
    "test_hive = hive.Hive(pytestinstance)           #alternative: test_hive = hive.Hive('Prediktor.ApisLoader.pytestinstance')\n",
    "assert test_hive.name=='pytestinstance'"
   ]
  },
  {
   "cell_type": "markdown",
   "metadata": {},
   "source": [
    "## The *module types*\n",
    "\n",
    "A hive will support several *module types*. Each module type takes care of a given aspect of the Hive configuration, an *OPC-UA client module* will used to connect to a remote computer, a *Worker module* will be used to perform calculations etc. We can retrive the supported module types with the `.module_types` attribute of the hive object."
   ]
  },
  {
   "cell_type": "code",
   "execution_count": 8,
   "metadata": {},
   "outputs": [],
   "source": [
    "mod_class_names = [mod_type.class_name for mod_type in test_hive.module_types]\n",
    "assert 'ApisWorker' in mod_class_names"
   ]
  },
  {
   "cell_type": "markdown",
   "metadata": {},
   "source": [
    "Lets print out the first ten module class names"
   ]
  },
  {
   "cell_type": "code",
   "execution_count": 9,
   "metadata": {},
   "outputs": [
    {
     "name": "stdout",
     "output_type": "stream",
     "text": [
      "ApisOPC\n",
      "ApisTaskScheduler\n",
      "ApisHAGovernor\n",
      "ApisBatchOptimizerBee\n",
      "ApisIntegoBee\n",
      "ApisMessageBuilderBee\n",
      "ApisModbusSlave\n",
      "ApisLVEstimator2\n",
      "ApisGPSolarBee\n",
      "ApisHSMirror\n"
     ]
    }
   ],
   "source": [
    "print('\\n'.join(mod_class_names[:10]))\n",
    "worker_type = test_hive.get_module_type('ApisWorker')"
   ]
  },
  {
   "cell_type": "markdown",
   "metadata": {},
   "source": [
    "## Accessing, adding and removing modules from the hive.\n",
    "\n",
    "The modules in the hive can be retrived directly by name or numeric index by subscripting, (i.e. `mod = hive['mymodule']`) or by iterating over the hive (i.e. `for mod in hive: ...`). Modules are added and removed from a hive using `.add_module(module_type, module_name)` and `del hive['module_name']` respectivly"
   ]
  },
  {
   "cell_type": "code",
   "execution_count": 10,
   "metadata": {},
   "outputs": [],
   "source": [
    "## deleting all modules with \"testworker\" in the name\n",
    "for mod in test_hive:\n",
    "    if \"testworker\" in mod.name:\n",
    "        mod.delete()            #we could have used del test_hive[mod] or del test_hive[mod.name] as well. \n",
    "\n",
    "module_names = [mod.name for mod in test_hive]"
   ]
  },
  {
   "cell_type": "markdown",
   "metadata": {},
   "source": [
    "creating two modules. We either use a `ModuleType` instance or a string as the module_type parameter"
   ]
  },
  {
   "cell_type": "code",
   "execution_count": 11,
   "metadata": {},
   "outputs": [],
   "source": [
    "test_module= test_hive.add_module(worker_type, 'testworker', exchangerate=2000)\n",
    "test_module2 = test_hive.add_module('ApisWorker', 'testworker2')\n",
    "\n",
    "test_modules = [mod for mod in test_hive if 'testworker' in mod.name]\n",
    "assert len(test_modules)==2"
   ]
  },
  {
   "cell_type": "markdown",
   "metadata": {},
   "source": [
    "## Setting module properties\n",
    "\n",
    "The module properties can be accessed directly"
   ]
  },
  {
   "cell_type": "code",
   "execution_count": 12,
   "metadata": {},
   "outputs": [],
   "source": [
    "assert test_module.exchangeRate == 2000\n",
    "\n",
    "test_module.ExchangeRate=1000\n",
    "\n",
    "assert test_module.get_property('eXchangeRate').value == 1000\n"
   ]
  },
  {
   "cell_type": "code",
   "execution_count": 13,
   "metadata": {},
   "outputs": [
    {
     "data": {
      "text/plain": [
       "['Signal',\n",
       " 'Time',\n",
       " 'Variable',\n",
       " 'VariableVector',\n",
       " 'BitSelect',\n",
       " 'String formatter',\n",
       " 'Multiplexer',\n",
       " 'TrigEvtBrokerCmd',\n",
       " 'VariableMatrix',\n",
       " 'Expression',\n",
       " 'ExtractVector',\n",
       " 'Module state items',\n",
       " 'Item attribute items',\n",
       " 'Module events items',\n",
       " 'Function item']"
      ]
     },
     "execution_count": 13,
     "metadata": {},
     "output_type": "execute_result"
    }
   ],
   "source": [
    "item_type_names = [item_type.Name for item_type in test_module.item_types]\n",
    "\n",
    "assert 'Signal' in item_type_names\n",
    "assert 'Variable' in item_type_names\n",
    "assert 'Function item' in item_type_names\n",
    "item_type_names"
   ]
  },
  {
   "cell_type": "markdown",
   "metadata": {},
   "source": [
    "# Adding and accessing items"
   ]
  },
  {
   "cell_type": "code",
   "execution_count": 14,
   "metadata": {},
   "outputs": [],
   "source": [
    "func_item_type = test_module.get_item_type('Function Item')\n",
    "\n",
    "var1 = test_module.add_item('Variable', 'var1')\n",
    "var2 = test_module.add_item('variable', 'var2')\n",
    "sig1 = test_module.add_item('Signal', 'sig1')\n",
    "func = test_module.add_item(func_item_type, 'func1')\n"
   ]
  },
  {
   "cell_type": "markdown",
   "metadata": {},
   "source": [
    "## Adding attributes"
   ]
  },
  {
   "cell_type": "code",
   "execution_count": 15,
   "metadata": {},
   "outputs": [],
   "source": [
    "var1.add_attr(\"Text1\", \"Some text here\")\n",
    "var2.Text1 = \"Some other text\"\n",
    "\n",
    "assert var2.Text1==\"Some other text\""
   ]
  },
  {
   "cell_type": "markdown",
   "metadata": {},
   "source": [
    "## Setting External items"
   ]
  },
  {
   "cell_type": "code",
   "execution_count": 16,
   "metadata": {},
   "outputs": [],
   "source": [
    "import time\n",
    "\n",
    "func.Expression = \"ex1+ex2\"\n",
    "func.external_items = [var1, var2]\n",
    "var1.Value = 3.0\n",
    "var2.Value = 5.5\n",
    "\n",
    "time.sleep(1.0)     #Let APIS propagate the values\n",
    "assert func['Value'] == 8.5"
   ]
  },
  {
   "cell_type": "markdown",
   "metadata": {},
   "source": [
    "## Adding a logger module"
   ]
  },
  {
   "cell_type": "code",
   "execution_count": 17,
   "metadata": {},
   "outputs": [],
   "source": [
    "if 'testloggerhive' in test_hive:\n",
    "    logger_hive = test_hive.get_module('testloggerhive')\n",
    "else:\n",
    "    logger_hive = test_hive.add_module('ApisLogger', 'testloggerhive')"
   ]
  },
  {
   "cell_type": "markdown",
   "metadata": {},
   "source": [
    "## Set the new 'testlogger_hive' attribute on the items we added above"
   ]
  },
  {
   "cell_type": "code",
   "execution_count": 18,
   "metadata": {},
   "outputs": [],
   "source": [
    "var1.add_attr(\"testloggerhive\", True)\n",
    "var2.testlogger_hive = True\n"
   ]
  },
  {
   "cell_type": "markdown",
   "metadata": {},
   "source": [
    "## Deleting a module\n",
    "\n",
    "Modules are deleted with the `del` keyword. The argument can either be a string or a module."
   ]
  },
  {
   "cell_type": "code",
   "execution_count": 19,
   "metadata": {},
   "outputs": [],
   "source": [
    "del test_hive[test_module]"
   ]
  },
  {
   "cell_type": "markdown",
   "metadata": {},
   "source": [
    "# hiveservices revisited - deleting a hive\n",
    "\n",
    "When deleting a hive we remove the service from the system, deleting all modules and asscocited information.\n",
    "\n",
    "Before we delete the hive we ensure that the `AutoDeleteDB` property is set to False on the logger module we as we want to keep the database in Honeystore for the next section"
   ]
  },
  {
   "cell_type": "code",
   "execution_count": 20,
   "metadata": {},
   "outputs": [
    {
     "ename": "FileNotFoundException",
     "evalue": "Could not load file or assembly 'System.ServiceProcess.ServiceController, Version=4.2.3.0, Culture=neutral, PublicKeyToken=b03f5f7f11d50a3a' or one of its dependencies. The system cannot find the file specified.\n   at Prediktor.APIS.Hive.HiveInstanceState.Stop(IApisInstance instance)",
     "output_type": "error",
     "traceback": [
      "\u001b[1;31m---------------------------------------------------------------------------\u001b[0m",
      "\u001b[1;31mFileNotFoundException\u001b[0m                     Traceback (most recent call last)",
      "\u001b[1;32mC:\\Users\\LOCALU~1\\AppData\\Local\\Temp\\1/ipykernel_3632/886453366.py\u001b[0m in \u001b[0;36m<module>\u001b[1;34m\u001b[0m\n\u001b[1;32m----> 1\u001b[1;33m \u001b[0mpytestinstance\u001b[0m\u001b[1;33m.\u001b[0m\u001b[0mrunning\u001b[0m \u001b[1;33m=\u001b[0m \u001b[1;32mFalse\u001b[0m\u001b[1;33m\u001b[0m\u001b[1;33m\u001b[0m\u001b[0m\n\u001b[0m\u001b[0;32m      2\u001b[0m \u001b[0mtime\u001b[0m\u001b[1;33m.\u001b[0m\u001b[0msleep\u001b[0m\u001b[1;33m(\u001b[0m\u001b[1;36m1.0\u001b[0m\u001b[1;33m)\u001b[0m\u001b[1;33m\u001b[0m\u001b[1;33m\u001b[0m\u001b[0m\n\u001b[0;32m      3\u001b[0m \u001b[0mhiveservices\u001b[0m\u001b[1;33m.\u001b[0m\u001b[0mremove_instance\u001b[0m\u001b[1;33m(\u001b[0m\u001b[0mpytestinstance\u001b[0m\u001b[1;33m)\u001b[0m\u001b[1;33m\u001b[0m\u001b[1;33m\u001b[0m\u001b[0m\n",
      "\u001b[1;32mc:\\users\\localuser\\source\\repos\\pyprediktoredgeclient\\pyprediktoredgeclient\\hiveservices.py\u001b[0m in \u001b[0;36m_set_running\u001b[1;34m(self, wanted)\u001b[0m\n\u001b[0;32m    112\u001b[0m             \u001b[0mself\u001b[0m\u001b[1;33m.\u001b[0m\u001b[0mstart\u001b[0m\u001b[1;33m(\u001b[0m\u001b[1;33m)\u001b[0m\u001b[1;33m\u001b[0m\u001b[1;33m\u001b[0m\u001b[0m\n\u001b[0;32m    113\u001b[0m         \u001b[1;32melif\u001b[0m \u001b[1;32mnot\u001b[0m \u001b[0mwanted\u001b[0m \u001b[1;32mand\u001b[0m \u001b[0mcurrent\u001b[0m\u001b[1;33m:\u001b[0m\u001b[1;33m\u001b[0m\u001b[1;33m\u001b[0m\u001b[0m\n\u001b[1;32m--> 114\u001b[1;33m             \u001b[0mself\u001b[0m\u001b[1;33m.\u001b[0m\u001b[0mstop\u001b[0m\u001b[1;33m(\u001b[0m\u001b[1;33m)\u001b[0m\u001b[1;33m\u001b[0m\u001b[1;33m\u001b[0m\u001b[0m\n\u001b[0m\u001b[0;32m    115\u001b[0m \u001b[1;33m\u001b[0m\u001b[0m\n\u001b[0;32m    116\u001b[0m     \u001b[0mrunning\u001b[0m \u001b[1;33m=\u001b[0m \u001b[0mproperty\u001b[0m\u001b[1;33m(\u001b[0m\u001b[0m_running\u001b[0m\u001b[1;33m,\u001b[0m \u001b[0m_set_running\u001b[0m\u001b[1;33m,\u001b[0m \u001b[0mdoc\u001b[0m\u001b[1;33m=\u001b[0m\u001b[1;34m\"get or set the running state of the instance\"\u001b[0m\u001b[1;33m)\u001b[0m\u001b[1;33m\u001b[0m\u001b[1;33m\u001b[0m\u001b[0m\n",
      "\u001b[1;32mc:\\users\\localuser\\source\\repos\\pyprediktoredgeclient\\pyprediktoredgeclient\\hiveservices.py\u001b[0m in \u001b[0;36mstop\u001b[1;34m(self)\u001b[0m\n\u001b[0;32m    100\u001b[0m     \u001b[1;32mdef\u001b[0m \u001b[0mstop\u001b[0m\u001b[1;33m(\u001b[0m\u001b[0mself\u001b[0m\u001b[1;33m)\u001b[0m\u001b[1;33m:\u001b[0m\u001b[1;33m\u001b[0m\u001b[1;33m\u001b[0m\u001b[0m\n\u001b[0;32m    101\u001b[0m         \u001b[1;32mif\u001b[0m \u001b[0mself\u001b[0m\u001b[1;33m.\u001b[0m\u001b[0mrunning\u001b[0m\u001b[1;33m:\u001b[0m\u001b[1;33m\u001b[0m\u001b[1;33m\u001b[0m\u001b[0m\n\u001b[1;32m--> 102\u001b[1;33m             \u001b[0mself\u001b[0m\u001b[1;33m.\u001b[0m\u001b[0mapi\u001b[0m\u001b[1;33m.\u001b[0m\u001b[0mStop\u001b[0m\u001b[1;33m(\u001b[0m\u001b[1;33m)\u001b[0m\u001b[1;33m\u001b[0m\u001b[1;33m\u001b[0m\u001b[0m\n\u001b[0m\u001b[0;32m    103\u001b[0m             \u001b[1;32mwhile\u001b[0m \u001b[0mself\u001b[0m\u001b[1;33m.\u001b[0m\u001b[0mrunning\u001b[0m\u001b[1;33m:\u001b[0m\u001b[1;33m\u001b[0m\u001b[1;33m\u001b[0m\u001b[0m\n\u001b[0;32m    104\u001b[0m                 \u001b[0mtime\u001b[0m\u001b[1;33m.\u001b[0m\u001b[0msleep\u001b[0m\u001b[1;33m(\u001b[0m\u001b[1;36m0.1\u001b[0m\u001b[1;33m)\u001b[0m\u001b[1;33m\u001b[0m\u001b[1;33m\u001b[0m\u001b[0m\n",
      "\u001b[1;31mFileNotFoundException\u001b[0m: Could not load file or assembly 'System.ServiceProcess.ServiceController, Version=4.2.3.0, Culture=neutral, PublicKeyToken=b03f5f7f11d50a3a' or one of its dependencies. The system cannot find the file specified.\n   at Prediktor.APIS.Hive.HiveInstanceState.Stop(IApisInstance instance)"
     ]
    }
   ],
   "source": [
    "pytestinstance.running = False\n",
    "time.sleep(1.0)\n",
    "hiveservices.remove_instance(pytestinstance)\n"
   ]
  },
  {
   "cell_type": "markdown",
   "metadata": {},
   "source": [
    "# Honeystore database management\n",
    "\n",
    "The following section is focused on the management of Honeystore databases through the Python client library. The Honeystore management functions are quite similar to the Apis Hive management. The possibilities include:\n",
    "* Connecting to Honeystore servers, both local and remote\n",
    "* Listing and selecting databases\n",
    "* Adding and removing databases\n",
    "* Setting database properties and run-modes\n",
    "* Listing and selecting database items.\n",
    "* Adding and removing database items.\n",
    "* Clearing item history\n",
    "* Setting item attributes\n",
    "\n",
    "Note that reading and writing time-series data is *not* covered in this section, but rather in the \"Timeseries\" part.\n",
    "\n",
    "## Importing the package\n",
    "\n",
    "The Honeystore management functions are located in the `honeystore` subpackage."
   ]
  },
  {
   "cell_type": "code",
   "execution_count": 21,
   "metadata": {},
   "outputs": [],
   "source": [
    "from pyprediktoredgeclient import honeystore\n",
    "from pyprediktoredgeclient.util import RunningMode"
   ]
  },
  {
   "cell_type": "markdown",
   "metadata": {},
   "source": [
    "## Connecting to a Honestore server.\n",
    "\n",
    "The connection to the Honeystore server is done by instantinating the `Honeystore(host_name)` class. The default connection is to the local machine."
   ]
  },
  {
   "cell_type": "code",
   "execution_count": 22,
   "metadata": {},
   "outputs": [],
   "source": [
    "hs = honeystore.Honeystore()"
   ]
  },
  {
   "cell_type": "markdown",
   "metadata": {},
   "source": [
    "## Listing the databases in the Honeystore server\n",
    "\n",
    "The databases in the server can be listed with the `list_databases()` method or accessed with the `databases` property."
   ]
  },
  {
   "cell_type": "code",
   "execution_count": 23,
   "metadata": {},
   "outputs": [
    {
     "data": {
      "text/plain": [
       "['Logger', 'MaerskTestLogger', 'testloggerhive', 'testdb']"
      ]
     },
     "execution_count": 23,
     "metadata": {},
     "output_type": "execute_result"
    }
   ],
   "source": [
    "db_names = [db.name for db in hs.databases]\n",
    "#assert 'testdb' not in db_names\n",
    "#assert 'testloggerhive' in db_names\n",
    "db_names"
   ]
  },
  {
   "cell_type": "markdown",
   "metadata": {},
   "source": [
    "## Creating a new database\n",
    "\n",
    "New Databases are added with the `add_database` method\n",
    "\n",
    "```\n",
    "add_database(name, path, max_items=1000, cache_size=10040) method of pyprediktoredgeclient.honeystore.Honeystore instance\n",
    "    Add a new database to the Honestore server.\n",
    "    \n",
    "    Arguments:\n",
    "    name: str.       The name of the new database. \n",
    "    path: str.       The storage path for the database data\n",
    "    max_items: int.  The inital maximum number of items in the database\n",
    "    cache_size: int. The cache size in the database.\n",
    "```\n",
    "\n",
    "In the example below we add a new database, `test` to the server. The files are stored in c:\\temp\\testdb"
   ]
  },
  {
   "cell_type": "code",
   "execution_count": 24,
   "metadata": {},
   "outputs": [],
   "source": [
    "testdb = hs.add_database('testdb', r\"c:\\temp\\testdb\")"
   ]
  },
  {
   "cell_type": "markdown",
   "metadata": {},
   "source": [
    "## Accessing existing databases"
   ]
  },
  {
   "cell_type": "code",
   "execution_count": 25,
   "metadata": {},
   "outputs": [],
   "source": [
    "testdb_logger = hs['testloggerhive']"
   ]
  },
  {
   "cell_type": "markdown",
   "metadata": {},
   "source": [
    "## Accessing database properties"
   ]
  },
  {
   "cell_type": "code",
   "execution_count": 26,
   "metadata": {},
   "outputs": [
    {
     "data": {
      "text/plain": [
       "\"datadir='c:\\\\temp\\\\testdb\\\\testdb.dat\\\\'\""
      ]
     },
     "metadata": {},
     "output_type": "display_data"
    }
   ],
   "source": [
    "import os.path\n",
    "\n",
    "datadir = testdb.DataDirPath\n",
    "display(f\"datadir='{datadir}'\")\n",
    "# assert os.path.samefile(datadir, os.path.join(r\"c:\\temp\\testdb\", r'test.dat'))\n",
    "\n",
    "assert testdb.UsedItems == 0"
   ]
  },
  {
   "cell_type": "markdown",
   "metadata": {},
   "source": [
    "## Adding new items to an database\n",
    "\n",
    "New items are added using the `add_item` method on the database.\n",
    "\n",
    "\n",
    "```\n",
    "add_item(item, var_type=VariantType.R8, record_type=RecordType.Eventbased, resolution=1000, array_size=0, history_length=31536000) method of pyprediktoredgeclient.honeystore.Database instance\n",
    "    Add a new item to the honeystore\n",
    "    \n",
    "    Arguments:\n",
    "    item_name: a string or an object with an 'item_id' property\n",
    "    var_type: The variable type to use. Either a string or a VariantType enum value\n",
    "    record_type: The recordtype to use. Either a string or a RecordType enum value\n",
    "    array_size: The arraylength of for vector or mulitidim data. If you pass a tuple here the elements\n",
    "                    in the tuple describes the dimensions\n",
    "    history_length: integer. Lenght of horizon in seconds\n",
    "```"
   ]
  },
  {
   "cell_type": "code",
   "execution_count": 27,
   "metadata": {},
   "outputs": [
    {
     "name": "stdout",
     "output_type": "stream",
     "text": [
      "0\n"
     ]
    }
   ],
   "source": [
    "# Arrays and matrixes are not supported at the moment.          \n",
    "# testdb.add_item('array', array_size=20)\n",
    "# testdb.add_item('matrix', array_size=(5,5))\n",
    "scalar = testdb.add_item('scalar')\n",
    "\n",
    "assert len(testdb)==1"
   ]
  },
  {
   "cell_type": "markdown",
   "metadata": {},
   "source": [
    "## Fetching items from the database\n",
    "\n"
   ]
  },
  {
   "cell_type": "code",
   "execution_count": 28,
   "metadata": {},
   "outputs": [],
   "source": [
    "scalar_twin = testdb['scalar']\n",
    "\n",
    "assert scalar.item_id == scalar_twin.item_id"
   ]
  },
  {
   "cell_type": "markdown",
   "metadata": {},
   "source": [
    "## Setting the running mode of the database\n",
    "\n",
    "There are four running modes available: \n",
    "* Online: The database is online in normal operation. Reading and writing can be done.\n",
    "* Admin: The database is in administrative mode. No r/w, properties can be changed.\n",
    "* Disabled: The database has been disabled. \n",
    "* OnlineNoCache: The database is on-line without caching operation. Reading and imports can be done, no write\t"
   ]
  },
  {
   "cell_type": "code",
   "execution_count": 29,
   "metadata": {},
   "outputs": [
    {
     "data": {
      "text/plain": [
       "<RunningMode.Online: 1>"
      ]
     },
     "metadata": {},
     "output_type": "display_data"
    },
    {
     "data": {
      "text/plain": [
       "<RunningMode.OnlineNoCache: 6>"
      ]
     },
     "metadata": {},
     "output_type": "display_data"
    },
    {
     "data": {
      "text/plain": [
       "<RunningMode.Online: 1>"
      ]
     },
     "metadata": {},
     "output_type": "display_data"
    }
   ],
   "source": [
    "import time\n",
    "display(testdb.mode)\n",
    "assert testdb.mode.name=='Online'\n",
    "\n",
    "testdb.mode = RunningMode.OnlineNoCache\n",
    "time.sleep(0.5)\n",
    "display(testdb.mode)\n",
    "assert testdb.mode.name=='OnlineNoCache'\n",
    "\n",
    "testdb.mode = \"Online\"\n",
    "time.sleep(0.5)\n",
    "display(testdb.mode)\n",
    "\n"
   ]
  },
  {
   "cell_type": "markdown",
   "metadata": {},
   "source": [
    "## Deleting items from the database"
   ]
  },
  {
   "cell_type": "code",
   "execution_count": 30,
   "metadata": {},
   "outputs": [],
   "source": [
    "del testdb['scalar']\n",
    "\n",
    "assert len(testdb)==0"
   ]
  },
  {
   "cell_type": "markdown",
   "metadata": {},
   "source": [
    "## Deleting a database"
   ]
  },
  {
   "cell_type": "code",
   "execution_count": 32,
   "metadata": {},
   "outputs": [],
   "source": [
    "del hs['testdb']\n",
    "del hs[\"testloggerhive\"]\n"
   ]
  },
  {
   "cell_type": "markdown",
   "metadata": {},
   "source": [
    "# Semantic services\n",
    "\n",
    "The semantic services offers functions to import nodesets, list namespaces and save nodeset-files"
   ]
  },
  {
   "cell_type": "code",
   "execution_count": 20,
   "metadata": {},
   "outputs": [],
   "source": [
    "from pyprediktoredgeclient import hive\n",
    "test_hive = hive.Hive('Prediktor.ApisLoader.pytestinstance')\n",
    "sem = test_hive.semantics_service"
   ]
  },
  {
   "cell_type": "code",
   "execution_count": 24,
   "metadata": {},
   "outputs": [],
   "source": [
    "with open(\".\\Models\\Opc.Ua.Di.NodeSet2.xml\") as f1:\n",
    "    mod1 = sem.load_namespace(f1, exchangerate=1000)"
   ]
  },
  {
   "cell_type": "code",
   "execution_count": 21,
   "metadata": {},
   "outputs": [],
   "source": [
    "# with open(\".\\Models\\windtypes.xml\") as wt_file:\n",
    "#     mod1 = sem.load_namespace(wt_file, exchangerate=1000, text1='kult')\n",
    "\n",
    "with open(\".\\Models\\instance.xml\") as inst_file:\n",
    "    mod1 = sem.load_namespace(inst_file, exchangerate=1000, nameoptions='Displayname', nametermination='Objects folder')\n"
   ]
  },
  {
   "cell_type": "code",
   "execution_count": 31,
   "metadata": {},
   "outputs": [],
   "source": [
    "mod1.set_properties({'Name termination': 'Objects folder'})"
   ]
  },
  {
   "cell_type": "code",
   "execution_count": 34,
   "metadata": {},
   "outputs": [
    {
     "data": {
      "text/plain": [
       "True"
      ]
     },
     "execution_count": 34,
     "metadata": {},
     "output_type": "execute_result"
    }
   ],
   "source": [
    "r=range(1000)\n",
    "isinstance(r,range)"
   ]
  },
  {
   "cell_type": "code",
   "execution_count": null,
   "metadata": {},
   "outputs": [],
   "source": []
  }
 ],
 "metadata": {
  "interpreter": {
   "hash": "c303f5ad0e2b064fa247b1b24a1fed71625b8f0808ce8ae7c7ba3fbaec6282fd"
  },
  "kernelspec": {
   "display_name": "Python 3.8.12 64-bit ('pyEdgeClient': conda)",
   "language": "python",
   "name": "python3"
  },
  "language_info": {
   "codemirror_mode": {
    "name": "ipython",
    "version": 3
   },
   "file_extension": ".py",
   "mimetype": "text/x-python",
   "name": "python",
   "nbconvert_exporter": "python",
   "pygments_lexer": "ipython3",
   "version": "3.8.12"
  },
  "orig_nbformat": 4
 },
 "nbformat": 4,
 "nbformat_minor": 2
}
