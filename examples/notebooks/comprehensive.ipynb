{
 "cells": [
  {
   "cell_type": "markdown",
   "metadata": {},
   "source": [
    "# Introduction to the Prediktor Edge Client python library\n",
    "\n",
    "* TOC\n",
    "\n",
    "## Background\n",
    "\n",
    "The PyPrediktorEdgeClient library allows the user to connect to an Apis instances. It is possible to create and manipulate Apis modules and items. The following core operations are available\n",
    "\n",
    "* Apis Hive Service instances\n",
    "  * Creating an Apis Hive service\n",
    "  * Starting and stopping an Apis Hive service\n",
    "  * Deleting an Apis Hive service\n",
    "* Apis Hive operations\n",
    "  * Creating modules\n",
    "  * Listing Apis modules\n",
    "  * Reading data as VQT records\n",
    "* Apis Hive Module operations\n",
    "  * Accessing module properties\n",
    "  * Setting/getting module properties directly\n",
    "  * Listing and retrieving module items\n",
    "* Apis Hive Item operations\n",
    "  * Accessing item attributes\n",
    "  * Setting/getting module attributes directly\n",
    "\n",
    "\n",
    "## Installation\n",
    "\n",
    "```\n",
    "pip install git+https://github.com/PrediktorAS/PyPrediktorEdgeClient.git\n",
    "```\n",
    "\n",
    "See the readme.md as well as [The PythonNet Github page](https://github.com/pythonnet/pythonnet/wiki/Troubleshooting-on-Windows,-Linux,-and-OSX) for further installation instructions.\n",
    "\n",
    "## Library structure\n",
    "\n",
    "The library is structured as a package with several subpackages:\n",
    "\n",
    "    pyprediktoredgeclient\n",
    "        hive\n",
    "        hiveservices\n",
    "        util\n",
    "        honeystore^*\n",
    "        timeseries^*\n",
    "        chronicle^*\n",
    "\n",
    "*) Not completed yet\n",
    "\n",
    "## API conventions\n",
    "\n",
    "There are several conventions used in the design of the *Python interface for Apis Edge*, `pyprediktoredgeclient`. The API follows the conventions set out in\n",
    "[PEP8](https://www.python.org/dev/peps/pep-0008/), but with relaxation regarding line length.\n",
    "\n",
    "* Variable, function and method names uses `snake_case` -- lower case names joined with underscore\n",
    "* Classes are CamelCase\n",
    "* Method names are structured as *verb_subject*, i.e. `get_item('')`\n",
    "* Attributes (as python language construct, not to be confused with item attributes) are constructed from subjects or adjectives (i.e. `hive.module_types`).\n",
    "\n",
    "# Hive services\n",
    "\n",
    "Hive services is concerned with the representation of Hive instances on the computer, not the implementation of logic on that Hive instance.\n",
    "\n",
    "## Importing the module\n",
    "\n",
    "The hive instances are accessed through the `hiveservices` module"
   ]
  },
  {
   "cell_type": "code",
   "execution_count": 1,
   "metadata": {
    "test-case": "first"
   },
   "outputs": [],
   "source": [
    "import sys\n",
    "sys.path.append( r'C:\\Users\\LocalUser\\Source\\Repos\\PyPrediktorEdgeClient')\n",
    "from pyprediktoredgeclient import hiveservices"
   ]
  },
  {
   "cell_type": "markdown",
   "metadata": {},
   "source": [
    "##  List all hive instances UUIDs on the machine"
   ]
  },
  {
   "cell_type": "code",
   "execution_count": 2,
   "metadata": {
    "test-case": "second"
   },
   "outputs": [
    {
     "data": {
      "text/plain": [
       "[UUID('51f92300-ca68-11d2-85c3-0000e8404a66'),\n",
       " UUID('04d4eb61-ccd3-43cc-a4ca-d2b5c4c56b05'),\n",
       " UUID('72dfd4a1-f484-4e8c-9818-64e17c7ddbaf'),\n",
       " UUID('8322407c-ea3d-4886-9d99-cc8ccd35da6f'),\n",
       " UUID('8840f50b-924d-4429-bc52-d67840169db8'),\n",
       " UUID('f84849c5-e05e-4666-a290-5792b0448a50')]"
      ]
     },
     "execution_count": 2,
     "metadata": {},
     "output_type": "execute_result"
    }
   ],
   "source": [
    "uuids = hiveservices.instance_identifiers()\n",
    "uuids"
   ]
  },
  {
   "cell_type": "markdown",
   "metadata": {},
   "source": [
    "## List all instances \n",
    "\n",
    "The `hiveservices.list_instances()`function returns a list of `HiveInstance` objects. The main properties of a `HiveInstance` object is:\n",
    "\n",
    "* `name`: The name of the instance\n",
    "* `prog_id`: The prog id (Com class name) of the Hive instance\n",
    "* `running`: A bool property indicating wheter the instance is running or not\n",
    "* `CLSID`: The UUID class id."
   ]
  },
  {
   "cell_type": "code",
   "execution_count": 3,
   "metadata": {},
   "outputs": [
    {
     "name": "stdout",
     "output_type": "stream",
     "text": [
      "ApisHive\n",
      "\tFalse\t51f92300-ca68-11d2-85c3-0000e8404a66\tPrediktor.ApisLoader.1\n",
      "\n",
      "ScadaInput\n",
      "\tFalse\t04d4eb61-ccd3-43cc-a4ca-d2b5c4c56b05\tPrediktor.ApisLoader.ScadaInput\n",
      "\n",
      "pytestinstance\n",
      "\tTrue\t72dfd4a1-f484-4e8c-9818-64e17c7ddbaf\tPrediktor.ApisLoader.pytestinstance\n",
      "\n",
      "Kontornett\n",
      "\tFalse\t8322407c-ea3d-4886-9d99-cc8ccd35da6f\tPrediktor.ApisLoader.Kontornett\n",
      "\n",
      "AggregatedTags\n",
      "\tFalse\t8840f50b-924d-4429-bc52-d67840169db8\tPrediktor.ApisLoader.AggregatedTags\n",
      "\n",
      "Simulator\n",
      "\tFalse\tf84849c5-e05e-4666-a290-5792b0448a50\tPrediktor.ApisLoader.Simulator\n",
      "\n"
     ]
    }
   ],
   "source": [
    "instance_list = hiveservices.list_instances()\n",
    "\n",
    "for inst in instance_list:\n",
    "    print(f\"{inst.name}\\n\\t{inst.running}\\t{inst.CLSID}\\t{inst.prog_id}\\n\")"
   ]
  },
  {
   "cell_type": "markdown",
   "metadata": {},
   "source": [
    "check that the list of UUID's and instance_list are same length and that all UUIDs are available"
   ]
  },
  {
   "cell_type": "code",
   "execution_count": 4,
   "metadata": {},
   "outputs": [],
   "source": [
    "assert len(uuids) == len(instance_list)\n",
    "\n",
    "#check that all instances in instance list has a corresponding UUID\n",
    "for instance in instance_list:\n",
    "    assert instance.CLSID in uuids"
   ]
  },
  {
   "cell_type": "markdown",
   "metadata": {},
   "source": [
    "## Creating a new instance\n",
    "\n",
    "We'll try to fetch the instance 'pytest' and create it if it doesn't exist"
   ]
  },
  {
   "cell_type": "code",
   "execution_count": 5,
   "metadata": {},
   "outputs": [],
   "source": [
    "\n",
    "try:\n",
    "    pytestinstance = hiveservices.get_instance('pytestinstance')\n",
    "except hiveservices.Error:\n",
    "    pytestinstance = hiveservices.add_instance('pytestinstance')\n",
    "\n",
    "# check that 'pytest' is among the instances\n",
    "\n",
    "assert 'pytestinstance' in [instance.name for instance in hiveservices.list_instances()]"
   ]
  },
  {
   "cell_type": "code",
   "execution_count": 6,
   "metadata": {},
   "outputs": [
    {
     "data": {
      "text/plain": [
       "['CLSID',\n",
       " '__class__',\n",
       " '__delattr__',\n",
       " '__dict__',\n",
       " '__dir__',\n",
       " '__doc__',\n",
       " '__eq__',\n",
       " '__format__',\n",
       " '__ge__',\n",
       " '__getattribute__',\n",
       " '__gt__',\n",
       " '__hash__',\n",
       " '__init__',\n",
       " '__init_subclass__',\n",
       " '__le__',\n",
       " '__lt__',\n",
       " '__module__',\n",
       " '__ne__',\n",
       " '__new__',\n",
       " '__reduce__',\n",
       " '__reduce_ex__',\n",
       " '__repr__',\n",
       " '__setattr__',\n",
       " '__sizeof__',\n",
       " '__str__',\n",
       " '__subclasshook__',\n",
       " '__weakref__',\n",
       " '_running',\n",
       " '_set_running',\n",
       " 'api',\n",
       " 'is_default',\n",
       " 'name',\n",
       " 'prog_id',\n",
       " 'running']"
      ]
     },
     "execution_count": 6,
     "metadata": {},
     "output_type": "execute_result"
    }
   ],
   "source": [
    "dir(pytestinstance)"
   ]
  },
  {
   "cell_type": "markdown",
   "metadata": {},
   "source": [
    "## Starting and stopping services\n",
    "\n",
    "The running state of Hive instances can be interrogated through the `.running` attribute of an `ApisInstance` object"
   ]
  },
  {
   "cell_type": "code",
   "execution_count": 7,
   "metadata": {},
   "outputs": [
    {
     "name": "stdout",
     "output_type": "stream",
     "text": [
      "'pytestinstance' instance is running\n"
     ]
    }
   ],
   "source": [
    "if pytestinstance.running:\n",
    "    print(\"'pytestinstance' instance is running\")\n",
    "else:\n",
    "    print(\"'pytestinstance' instance was stopped, starting\")\n",
    "\n",
    "pytestinstance.running = True    "
   ]
  },
  {
   "cell_type": "markdown",
   "metadata": {},
   "source": [
    "# Hive, Modules and Items\n",
    "\n",
    "The `hive` subpackage gives the user access to the Apis Edge hive and related parts such as modules and items. The `hive` functionality must not be confused with `hiveservices` mentioned above. The classes and functions in `hive` is concerned with the configuration of the system whereas `hiveservice` deals with the management of the hive on the computer, such as stopping and starting the system.\n",
    "\n",
    "Some clarifications and definitions might be in order. The main classes defined in the `hive`package are:\n",
    "\n",
    "* `Hive` This class contains the configuration of one hive. A hive is an insulated service that manages input, output, logging and processing. A `Hive` contains any number of `Module`s.\n",
    "* `Module` This class contains all the `Item`s associated with one functionality. A functionality could be the OPC connection to a particular server. The parameters that control the `Module` behaviour are called `Property`. \n",
    "* `Property` The parameters for one `Module` such as ExchangeRate.\n",
    "* `Item` contains the real-time information in the system. The various parameters and values associated with one `Item` are known as `Attribute`s\n",
    "\n",
    "## Importing the package and connecting to a Hive\n",
    "\n",
    "In this example we use the `hiveinstance` object from the previous section to connect to the `hive` however we could also use the prog-id of the hive as a connection parameter, "
   ]
  },
  {
   "cell_type": "code",
   "execution_count": 8,
   "metadata": {},
   "outputs": [],
   "source": [
    "from pyprediktoredgeclient import hive\n",
    "test_hive = hive.Hive(pytestinstance)           #alternative: test_hive = hive.Hive('Prediktor.ApisLoader.pytestinstance')\n",
    "assert test_hive.name=='pytestinstance'"
   ]
  },
  {
   "cell_type": "markdown",
   "metadata": {},
   "source": [
    "## The *module types*\n",
    "\n",
    "A hive will support several *module types*. Each module type takes care of a given aspect of the Hive configuration, an *OPC-UA client module* will used to connect to a remote computer, a *Worker module* will be used to perform calculations etc. We can retrive the supported module types with the `.module_types` attribute of the hive object."
   ]
  },
  {
   "cell_type": "code",
   "execution_count": 9,
   "metadata": {},
   "outputs": [],
   "source": [
    "mod_class_names = [mod_type.class_name for mod_type in test_hive.module_types]\n",
    "assert 'ApisWorker' in mod_class_names"
   ]
  },
  {
   "cell_type": "markdown",
   "metadata": {},
   "source": [
    "Lets print out the first ten module class names"
   ]
  },
  {
   "cell_type": "code",
   "execution_count": 10,
   "metadata": {},
   "outputs": [
    {
     "name": "stdout",
     "output_type": "stream",
     "text": [
      "ApisOPC\n",
      "ApisTaskScheduler\n",
      "ApisHAGovernor\n",
      "ApisBatchOptimizerBee\n",
      "ApisIntegoBee\n",
      "ApisMessageBuilderBee\n",
      "ApisModbusSlave\n",
      "ApisLVEstimator2\n",
      "ApisGPSolarBee\n",
      "ApisHSMirror\n"
     ]
    }
   ],
   "source": [
    "print('\\n'.join(mod_class_names[:10]))\n",
    "worker_type = test_hive.get_module_type('ApisWorker')"
   ]
  },
  {
   "cell_type": "markdown",
   "metadata": {},
   "source": [
    "## Accessing, adding and removing modules from the hive.\n",
    "\n",
    "The modules in the hive can be retrived directly by name or numeric index by subscripting, (i.e. `mod = hive['mymodule']`) or by iterating over the hive (i.e. `for mod in hive: ...`). Modules are added and removed from a hive using `.add_module(module_type, module_name)` and `del hive['module_name']` respectivly"
   ]
  },
  {
   "cell_type": "code",
   "execution_count": 11,
   "metadata": {},
   "outputs": [],
   "source": [
    "for mod in test_hive.modules:\n",
    "    if \"testworker\" in mod.name:\n",
    "        del test_hive[mod.name]\n",
    "\n",
    "module_names = [mod.name for mod in test_hive]"
   ]
  },
  {
   "cell_type": "markdown",
   "metadata": {},
   "source": [
    "creating two modules. We either use a `ModuleType` instance or a string as the module_type parameter"
   ]
  },
  {
   "cell_type": "code",
   "execution_count": 12,
   "metadata": {},
   "outputs": [],
   "source": [
    "test_module= test_hive.add_module(worker_type, 'testworker')\n",
    "test_module2 = test_hive.add_module('ApisWorker', 'testworker2')\n",
    "\n",
    "test_modules = [mod for mod in test_hive if 'testworker' in mod.name]\n",
    "assert len(test_modules)==2"
   ]
  },
  {
   "cell_type": "markdown",
   "metadata": {},
   "source": [
    "## Setting module properties\n",
    "\n",
    "The module properties can be accessed directly"
   ]
  },
  {
   "cell_type": "code",
   "execution_count": 13,
   "metadata": {},
   "outputs": [],
   "source": [
    "test_module.ExchangeRate=1000"
   ]
  },
  {
   "cell_type": "markdown",
   "metadata": {},
   "source": [
    "# Getting available item types\n",
    "\n"
   ]
  },
  {
   "cell_type": "code",
   "execution_count": 14,
   "metadata": {},
   "outputs": [
    {
     "data": {
      "text/plain": [
       "['Signal',\n",
       " 'Time',\n",
       " 'Variable',\n",
       " 'VariableVector',\n",
       " 'BitSelect',\n",
       " 'String formatter',\n",
       " 'Multiplexer',\n",
       " 'TrigEvtBrokerCmd',\n",
       " 'VariableMatrix',\n",
       " 'Expression',\n",
       " 'ExtractVector',\n",
       " 'Module state items',\n",
       " 'Item attribute items',\n",
       " 'Module events items',\n",
       " 'Function item']"
      ]
     },
     "execution_count": 14,
     "metadata": {},
     "output_type": "execute_result"
    }
   ],
   "source": [
    "item_type_names = [item_type.Name for item_type in test_module.item_types]\n",
    "\n",
    "assert 'Signal' in item_type_names\n",
    "assert 'Variable' in item_type_names\n",
    "assert 'Function item' in item_type_names\n",
    "item_type_names"
   ]
  },
  {
   "cell_type": "markdown",
   "metadata": {},
   "source": [
    "# Adding and accessing items"
   ]
  },
  {
   "cell_type": "code",
   "execution_count": 15,
   "metadata": {},
   "outputs": [],
   "source": [
    "func_item_type = test_module.get_item_type('Function item')\n",
    "\n",
    "var1 = test_module.add_item('Variable', 'var1')\n",
    "var2 = test_module.add_item('Variable', 'var2')\n",
    "sig1 = test_module.add_item('Signal', 'sig1')\n",
    "func = test_module.add_item(func_item_type, 'func1')\n"
   ]
  },
  {
   "cell_type": "markdown",
   "metadata": {},
   "source": [
    "## Adding attributes"
   ]
  },
  {
   "cell_type": "code",
   "execution_count": 16,
   "metadata": {},
   "outputs": [],
   "source": [
    "var1.add_attr(\"Text1\", \"Some text here\")\n",
    "var2.Text1 = \"Some other text\"\n",
    "\n",
    "assert var2.Text1==\"Some other text\""
   ]
  },
  {
   "cell_type": "markdown",
   "metadata": {},
   "source": [
    "## Setting External items"
   ]
  },
  {
   "cell_type": "code",
   "execution_count": 17,
   "metadata": {},
   "outputs": [],
   "source": [
    "import time\n",
    "\n",
    "func.Expression = \"ex1+ex2\"\n",
    "func.external_items = [var1, var2]\n",
    "var1.Value = 3.0\n",
    "var2.Value = 5.5\n",
    "\n",
    "time.sleep(1.0)     #Let APIS propagate the values\n",
    "assert func['Value'] == 8.5"
   ]
  },
  {
   "cell_type": "markdown",
   "metadata": {},
   "source": [
    "# hiveservices revisited - deleting a hive"
   ]
  },
  {
   "cell_type": "code",
   "execution_count": 20,
   "metadata": {},
   "outputs": [],
   "source": [
    "pytestinstance.running = False\n",
    "\n",
    "hiveservices.remove_instance(pytestinstance)"
   ]
  },
  {
   "cell_type": "code",
   "execution_count": null,
   "metadata": {},
   "outputs": [
    {
     "data": {
      "text/plain": [
       "'C:\\\\Program Files\\\\APIS\\\\Bin64'"
      ]
     },
     "execution_count": 18,
     "metadata": {},
     "output_type": "execute_result"
    }
   ],
   "source": [
    "from pyprediktoredgeclient import util\n",
    "util.importlocation"
   ]
  }
 ],
 "metadata": {
  "interpreter": {
   "hash": "c303f5ad0e2b064fa247b1b24a1fed71625b8f0808ce8ae7c7ba3fbaec6282fd"
  },
  "kernelspec": {
   "display_name": "Python 3.8.12 64-bit ('pyEdgeClient': conda)",
   "language": "python",
   "name": "python3"
  },
  "language_info": {
   "codemirror_mode": {
    "name": "ipython",
    "version": 3
   },
   "file_extension": ".py",
   "mimetype": "text/x-python",
   "name": "python",
   "nbconvert_exporter": "python",
   "pygments_lexer": "ipython3",
   "version": "3.8.5"
  },
  "orig_nbformat": 4
 },
 "nbformat": 4,
 "nbformat_minor": 2
}
