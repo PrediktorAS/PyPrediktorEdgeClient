{
 "cells": [
  {
   "cell_type": "markdown",
   "metadata": {},
   "source": [
    "# APIS EventServer examples\n",
    "\n",
    "Import modules, reload 'hive' to simplify development of the module:"
   ]
  },
  {
   "cell_type": "code",
   "execution_count": null,
   "metadata": {},
   "outputs": [],
   "source": [
    "import sys\n",
    "if ('pyprediktoredgeclient' in sys.modules):\n",
    "    sys.modules.pop('pyprediktoredgeclient')\n",
    "    print(\"Pruned module from cache\")\n",
    "sys.path.insert(0, r'C:\\tfs\\PyPrediktorEdgeClient')\n",
    "from pyprediktoredgeclient import hive\n",
    "from pyprediktoredgeclient.util import to_pydatetime\n",
    "from datetime import datetime, timedelta\n",
    "\n",
    "from importlib import reload\n",
    "hive = reload(hive)"
   ]
  },
  {
   "cell_type": "markdown",
   "metadata": {},
   "source": [
    "Get default APIS HIVE instance, and its EventServer:"
   ]
  },
  {
   "cell_type": "code",
   "execution_count": null,
   "metadata": {},
   "outputs": [],
   "source": [
    "apis = hive.Hive()\n",
    "es = apis.get_eventserver()"
   ]
  },
  {
   "cell_type": "markdown",
   "metadata": {},
   "source": [
    "Show event-server configuration:"
   ]
  },
  {
   "cell_type": "code",
   "execution_count": null,
   "metadata": {},
   "outputs": [],
   "source": [
    "cfg = es.get_config()\n",
    "print(\"Configuration:\")\n",
    "for k,v in cfg.items():\n",
    "    print(f\"\\t{k}={v}\")"
   ]
  },
  {
   "cell_type": "markdown",
   "metadata": {},
   "source": [
    "List all data-types:"
   ]
  },
  {
   "cell_type": "code",
   "execution_count": null,
   "metadata": {},
   "outputs": [],
   "source": [
    "vts = es.get_datatypes()\n",
    "print(\"Datatypes:\")\n",
    "for k,v in vts.items():\n",
    "    print(f\"\\t{k}: {v.name}\")\n"
   ]
  },
  {
   "cell_type": "markdown",
   "metadata": {},
   "source": [
    "List all event-types:"
   ]
  },
  {
   "cell_type": "code",
   "execution_count": null,
   "metadata": {},
   "outputs": [],
   "source": [
    "types = es.get_eventtypes()\n",
    "print(\"Event types:\")\n",
    "for k,v in types.items():\n",
    "    print(f\"\\t{k}: {v.name}, parent={v.parent}, flags={v.flags}\")\n"
   ]
  },
  {
   "cell_type": "markdown",
   "metadata": {},
   "source": [
    "List all event-fields:"
   ]
  },
  {
   "cell_type": "code",
   "execution_count": null,
   "metadata": {},
   "outputs": [],
   "source": [
    "fields = es.get_eventfields()\n",
    "print(\"Event fields:\")\n",
    "for k,v in fields.items():\n",
    "    t = types[v.eventtype]\n",
    "    vt = vts[v.vt]\n",
    "    print(f\"\\t{k}: {t.name}.{v.name}, vt={vt.name}, flags={v.flags}\")"
   ]
  },
  {
   "cell_type": "markdown",
   "metadata": {},
   "source": [
    "Find a single eventsource with a matching 'browsepath':"
   ]
  },
  {
   "cell_type": "code",
   "execution_count": null,
   "metadata": {},
   "outputs": [],
   "source": [
    "flags = es.browse_flags.Like | es.browse_flags.MatchExact\n",
    "sources = es.browse('*/AlarmArea/*.Signal198', flags)\n",
    "assert len(sources) == 1\n",
    "source = sources[0].Id\n",
    "for i in sources:\n",
    "    print(f\"{i.Id}: {i.Path}\")"
   ]
  },
  {
   "cell_type": "markdown",
   "metadata": {},
   "source": [
    "Fetch the last N events for a single source from the last X days, filtered on \"Message\" field:"
   ]
  },
  {
   "cell_type": "code",
   "execution_count": null,
   "metadata": {},
   "outputs": [],
   "source": [
    "import System # Needed for 'System.DateTime.FromFileTime' below, should be fixed...\n",
    "now = datetime.utcnow()\n",
    "data = es.query(now, now - timedelta(days=30), source, 0, \"Message like '*last was [12]*'\", 100)\n",
    "print(f\"Query returned {len(data)} rows for source {source}\")\n",
    "for row in data:\n",
    "    ts = System.DateTime.FromFileTime(row.Fields[0])\n",
    "    print(f\"{to_pydatetime(ts)} source={row.Fields[3]} type={row.Fields[4]} severity={row.Fields[6]} msg={row.Fields[7]}\")"
   ]
  }
 ],
 "metadata": {
  "interpreter": {
   "hash": "5bb6063c85af85ca6cd565e38958e6a385a155948683aba84da5e1677332a57e"
  },
  "kernelspec": {
   "display_name": "Python 3.9.8 64-bit ('.venv': venv)",
   "language": "python",
   "name": "python3"
  },
  "language_info": {
   "codemirror_mode": {
    "name": "ipython",
    "version": 3
   },
   "file_extension": ".py",
   "mimetype": "text/x-python",
   "name": "python",
   "nbconvert_exporter": "python",
   "pygments_lexer": "ipython3",
   "version": "3.9.8"
  },
  "orig_nbformat": 4
 },
 "nbformat": 4,
 "nbformat_minor": 2
}
